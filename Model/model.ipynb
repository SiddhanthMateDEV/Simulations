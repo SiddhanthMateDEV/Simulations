{
 "cells": [
  {
   "cell_type": "code",
   "execution_count": 2,
   "metadata": {},
   "outputs": [
    {
     "ename": "ModuleNotFoundError",
     "evalue": "No module named 'tensorflow'",
     "output_type": "error",
     "traceback": [
      "\u001b[0;31m---------------------------------------------------------------------------\u001b[0m",
      "\u001b[0;31mModuleNotFoundError\u001b[0m                       Traceback (most recent call last)",
      "\u001b[1;32m/Users/siddhanthmate/Desktop/AllFiles/Subjects/Science/ComputerScience/Portfolio/Projects/AssetPricingModels/Model/model.ipynb Cell 1\u001b[0m in \u001b[0;36m1\n\u001b[0;32m----> <a href='vscode-notebook-cell:/Users/siddhanthmate/Desktop/AllFiles/Subjects/Science/ComputerScience/Portfolio/Projects/AssetPricingModels/Model/model.ipynb#W0sZmlsZQ%3D%3D?line=0'>1</a>\u001b[0m \u001b[39mimport\u001b[39;00m \u001b[39mtensorflow\u001b[39;00m \u001b[39mas\u001b[39;00m \u001b[39mtf\u001b[39;00m\n\u001b[1;32m      <a href='vscode-notebook-cell:/Users/siddhanthmate/Desktop/AllFiles/Subjects/Science/ComputerScience/Portfolio/Projects/AssetPricingModels/Model/model.ipynb#W0sZmlsZQ%3D%3D?line=1'>2</a>\u001b[0m \u001b[39mimport\u001b[39;00m \u001b[39mnumpy\u001b[39;00m \u001b[39mas\u001b[39;00m \u001b[39mnp\u001b[39;00m\n\u001b[1;32m      <a href='vscode-notebook-cell:/Users/siddhanthmate/Desktop/AllFiles/Subjects/Science/ComputerScience/Portfolio/Projects/AssetPricingModels/Model/model.ipynb#W0sZmlsZQ%3D%3D?line=2'>3</a>\u001b[0m \u001b[39mfrom\u001b[39;00m \u001b[39mtensorflow\u001b[39;00m\u001b[39m.\u001b[39;00m\u001b[39mcontrib\u001b[39;00m\u001b[39m.\u001b[39;00m\u001b[39mtraining\u001b[39;00m \u001b[39mimport\u001b[39;00m training\n",
      "\u001b[0;31mModuleNotFoundError\u001b[0m: No module named 'tensorflow'"
     ]
    }
   ],
   "source": [
    "import tensorflow as tf\n",
    "import numpy as np\n",
    "from tensorflow.contrib.training import training"
   ]
  },
  {
   "cell_type": "code",
   "execution_count": 11,
   "metadata": {},
   "outputs": [],
   "source": [
    "def shape_list(x):\n",
    "    static=x.shape.to_list()\n",
    "    dynamic=tf.shape(x)\n",
    "    return [dynamic[i] if s is None else s for i,s in enumerate(static)]\n"
   ]
  },
  {
   "cell_type": "code",
   "execution_count": 12,
   "metadata": {},
   "outputs": [],
   "source": [
    "def soft_max(x,axis=-1):\n",
    "    x=x-tf.reduce_max(x,axis=axis,keepdims=True)\n",
    "    ex=tf.exp(x)\n",
    "    return (ex/tf.reduce_sum(ex,axis=axis,keepdims=True))\n"
   ]
  },
  {
   "cell_type": "code",
   "execution_count": 13,
   "metadata": {},
   "outputs": [],
   "source": [
    "def tanh(x):\n",
    "    return 0.5 * x * (1 + tanh(sqrt(2/pi) * (x + 0.044715 * x^3)))\n"
   ]
  },
  {
   "cell_type": "code",
   "execution_count": 14,
   "metadata": {},
   "outputs": [],
   "source": [
    "def normalisation(x,scope,*,epsilon=1e-5,axis=-1):\n",
    "    with tf.variable_scope(scope):\n",
    "        n_state=x.shape[-1].value\n",
    "        # scaling factor\n",
    "        g=tf.get_variable('g',[n_state],initializer=tf.constant_initializer(1))\n",
    "        # shifting factor\n",
    "        b=tf.get_variable('b',[n_state],initializer=tf.constant_initializer(0))\n",
    "\n",
    "        u=tf.reduce_mean(x,axis=axis,keepdims=True)\n",
    "        s=tf.reduce_mean(tf.square(x-u),axis=axis,keepdims=True)\n",
    "\n",
    "        x=(x-u)*tf.rsqrt(s+epsilon)\n",
    "        x=x*g+b\n",
    "\n",
    "        return x    "
   ]
  },
  {
   "cell_type": "code",
   "execution_count": null,
   "metadata": {},
   "outputs": [],
   "source": []
  }
 ],
 "metadata": {
  "kernelspec": {
   "display_name": "base",
   "language": "python",
   "name": "python3"
  },
  "language_info": {
   "codemirror_mode": {
    "name": "ipython",
    "version": 3
   },
   "file_extension": ".py",
   "mimetype": "text/x-python",
   "name": "python",
   "nbconvert_exporter": "python",
   "pygments_lexer": "ipython3",
   "version": "3.10.6"
  },
  "orig_nbformat": 4
 },
 "nbformat": 4,
 "nbformat_minor": 2
}
